{
 "cells": [
  {
   "cell_type": "code",
   "execution_count": null,
   "metadata": {},
   "outputs": [],
   "source": [
    "# Get data from GBQ\n",
    "from google.oauth2 import service_account\n",
    "import pandas_gbq\n",
    "\n",
    "credentials = service_account.Credentials.from_service_account_file(\n",
    "    '/Users/jaroslawbontruk/Documents/[name_of_file].json',\n",
    ")\n",
    "\n",
    "project_id = \"[name_of_project]\"\n",
    "\n",
    "query = \"\"\"\n",
    "select supplier_name \n",
    "from [name_of_db].v_supplier_summary\n",
    "where [name_of_column] = 'Active'\n",
    "\"\"\"\n",
    "\n",
    "df = pandas_gbq.read_gbq(query, \n",
    "                         project_id = project_id, \n",
    "                         credentials = credentials)"
   ]
  },
  {
   "cell_type": "code",
   "execution_count": null,
   "metadata": {},
   "outputs": [],
   "source": [
    "# Prepare URLs (based on GBQ data)\n",
    "sample_url = \"https://www.sellerratings.com/amazon/usa?name=Soul+Sistahs+Network\"\n",
    "core_url = \"https://www.sellerratings.com/amazon/usa?name=\"\n",
    "\n",
    "df = df.apply(lambda x: x.str.replace(' ','+'))\n",
    "df['url'] = core_url + df['supplier_name'].astype(str)\n",
    "\n",
    "print(df.loc[10, 'url'])\n",
    "print(df.shape)"
   ]
  },
  {
   "cell_type": "code",
   "execution_count": null,
   "metadata": {},
   "outputs": [],
   "source": [
    "# Get data from CSV\n",
    "import pandas as pd\n",
    "import numpy as np\n",
    "\n",
    "df1 = pd.read_csv('sheet.csv', low_memory = False)\n",
    "df1.columns = ['all_suppliers', 'selected_suppliers', 'match']\n",
    "\n",
    "grouped = df1.groupby('selected_suppliers').size().reset_index()\n",
    "grouped.columns = ['selected_suppliers', 'count']\n",
    "grouped = grouped.sort_values('count', ascending=False)"
   ]
  },
  {
   "cell_type": "code",
   "execution_count": null,
   "metadata": {},
   "outputs": [],
   "source": [
    "# Prepare URLs (based on CSV data)\n",
    "uniques = df1.selected_suppliers.unique()\n",
    "uniques = pd.DataFrame(data = uniques.flatten())\n",
    "uniques.columns = ['company_name_cleaned']\n",
    "a = uniques['company_name_cleaned']\n",
    "\n",
    "uniques = uniques.apply(lambda x: x.str.replace(',',''))\n",
    "uniques = uniques.apply(lambda x: x.str.replace('!',''))\n",
    "uniques = uniques.apply(lambda x: x.str.replace(\"'\",\"\"))\n",
    "uniques = uniques.apply(lambda x: x.str.replace('.',''))\n",
    "uniques = uniques.apply(lambda x: x.str.replace('&',''))\n",
    "uniques = uniques.apply(lambda x: x.str.replace(' ','-'))\n",
    "\n",
    "core_url = \"https://www.sellerratings.com/amazon/usa/\"\n",
    "uniques['url'] = core_url + uniques['company_name_cleaned'].astype(str)\n",
    "uniques['company_name'] = a\n",
    "\n",
    "print(uniques.loc[29223, 'company_name_cleaned'])\n",
    "print(uniques.shape)\n",
    "\n",
    "df = uniques\n",
    "df"
   ]
  },
  {
   "cell_type": "code",
   "execution_count": null,
   "metadata": {},
   "outputs": [],
   "source": [
    "# Get data from Marketplace Pulse\n",
    "import requests\n",
    "import time\n",
    "import pandas as pd\n",
    "from bs4 import BeautifulSoup\n",
    "import json\n",
    "\n",
    "results = pd.DataFrame(columns=['supplier_name', 'url', 'response', 'sellerID', 'reviewCount', 'ratingValue'])\n",
    "start = time.time()\n",
    "\n",
    "for i in range(29200, 30881):\n",
    "    results.loc[i, 'supplier_name'] = df.loc[i, 'company_name']  \n",
    "    results.loc[i, 'url'] = df.loc[i, 'url'].lower() \n",
    "    r = requests.get(df.loc[i, 'url'])\n",
    "    results.loc[i, 'response'] = str(r)\n",
    "    if str(r) == '<Response [200]>':\n",
    "        soup = BeautifulSoup(r.content, 'html.parser')\n",
    "        for div in soup.find_all(class_='contact'):\n",
    "            sellerID = div.find('a')['href']\n",
    "        sellerID = sellerID.replace('https://www.amazon.com/gp/help/contact-seller/contact-seller.html?sellerID=', '')        \n",
    "        results.loc[i, 'sellerID'] = sellerID\n",
    "        data = json.loads(soup.find('script', type='application/ld+json').text)\n",
    "        results.loc[i, 'reviewCount'] = data['aggregateRating']['reviewCount']\n",
    "        results.loc[i, 'ratingValue'] = data['aggregateRating']['ratingValue']\n",
    "    if i%10 == 0: print(str(i) + ' URLs in ' + str(time.time() - start) + ' sec')\n",
    "        \n",
    "results"
   ]
  },
  {
   "cell_type": "code",
   "execution_count": null,
   "metadata": {},
   "outputs": [],
   "source": [
    "# Save to CSV\n",
    "results.to_csv('results.csv', index = False)"
   ]
  }
 ],
 "metadata": {
  "kernelspec": {
   "display_name": "Python 3",
   "language": "python",
   "name": "python3"
  },
  "language_info": {
   "codemirror_mode": {
    "name": "ipython",
    "version": 3
   },
   "file_extension": ".py",
   "mimetype": "text/x-python",
   "name": "python",
   "nbconvert_exporter": "python",
   "pygments_lexer": "ipython3",
   "version": "3.7.1"
  }
 },
 "nbformat": 4,
 "nbformat_minor": 2
}
